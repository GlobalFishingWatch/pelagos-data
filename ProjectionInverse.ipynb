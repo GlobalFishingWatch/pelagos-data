{
 "metadata": {
  "name": "",
  "signature": "sha256:3d21a01bc66f9e60a5e7964351c60c3a0e997cd6aad25ae7587542679914a8c9"
 },
 "nbformat": 3,
 "nbformat_minor": 0,
 "worksheets": [
  {
   "cells": [
    {
     "cell_type": "code",
     "collapsed": false,
     "input": [
      "import sympy\n",
      "sympy.init_printing(use_latex='mathjax')"
     ],
     "language": "python",
     "metadata": {},
     "outputs": [],
     "prompt_number": 9
    },
    {
     "cell_type": "code",
     "collapsed": false,
     "input": [
      "t0,t1,t2,t3,t4,t5 = sympy.symbols(\"t_0,t_1,t_2,t_3,t_4,t_5\")\n",
      "M = sympy.Matrix([[1, t0, t3], [0, t1, t4], [0, t2, t5]])\n",
      "M"
     ],
     "language": "python",
     "metadata": {},
     "outputs": [
      {
       "latex": [
        "$$\\left[\\begin{matrix}1 & t_{0} & t_{3}\\\\0 & t_{1} & t_{4}\\\\0 & t_{2} & t_{5}\\end{matrix}\\right]$$"
       ],
       "metadata": {},
       "output_type": "pyout",
       "prompt_number": 12,
       "text": [
        "\u23a11  t\u2080  t\u2083\u23a4\n",
        "\u23a2         \u23a5\n",
        "\u23a20  t\u2081  t\u2084\u23a5\n",
        "\u23a2         \u23a5\n",
        "\u23a30  t\u2082  t\u2085\u23a6"
       ]
      }
     ],
     "prompt_number": 12
    },
    {
     "cell_type": "code",
     "collapsed": false,
     "input": [
      "MI = M.inv()\n",
      "MI"
     ],
     "language": "python",
     "metadata": {},
     "outputs": [
      {
       "latex": [
        "$$\\left[\\begin{matrix}1 & - \\frac{t_{0}}{t_{1}} + \\frac{t_{2} \\left(- \\frac{t_{0} t_{4}}{t_{1}} + t_{3}\\right)}{t_{1} \\left(t_{5} - \\frac{t_{2} t_{4}}{t_{1}}\\right)} & - \\frac{- \\frac{t_{0} t_{4}}{t_{1}} + t_{3}}{t_{5} - \\frac{t_{2} t_{4}}{t_{1}}}\\\\0 & \\frac{1}{t_{1}} + \\frac{t_{2} t_{4}}{t_{1}^{2} \\left(t_{5} - \\frac{t_{2} t_{4}}{t_{1}}\\right)} & - \\frac{t_{4}}{t_{1} \\left(t_{5} - \\frac{t_{2} t_{4}}{t_{1}}\\right)}\\\\0 & - \\frac{t_{2}}{t_{1} \\left(t_{5} - \\frac{t_{2} t_{4}}{t_{1}}\\right)} & \\frac{1}{t_{5} - \\frac{t_{2} t_{4}}{t_{1}}}\\end{matrix}\\right]$$"
       ],
       "metadata": {},
       "output_type": "pyout",
       "prompt_number": 16,
       "text": [
        "\u23a1             \u239b  t\u2080\u22c5t\u2084     \u239e   \u239b  t\u2080\u22c5t\u2084     \u239e \u23a4\n",
        "\u23a2          t\u2082\u22c5\u239c- \u2500\u2500\u2500\u2500\u2500 + t\u2083\u239f  -\u239c- \u2500\u2500\u2500\u2500\u2500 + t\u2083\u239f \u23a5\n",
        "\u23a2     t\u2080      \u239d    t\u2081      \u23a0   \u239d    t\u2081      \u23a0 \u23a5\n",
        "\u23a21  - \u2500\u2500 + \u2500\u2500\u2500\u2500\u2500\u2500\u2500\u2500\u2500\u2500\u2500\u2500\u2500\u2500\u2500\u2500\u2500  \u2500\u2500\u2500\u2500\u2500\u2500\u2500\u2500\u2500\u2500\u2500\u2500\u2500\u2500\u2500\u2500\u23a5\n",
        "\u23a2     t\u2081       \u239b     t\u2082\u22c5t\u2084\u239e           t\u2082\u22c5t\u2084   \u23a5\n",
        "\u23a2           t\u2081\u22c5\u239ct\u2085 - \u2500\u2500\u2500\u2500\u2500\u239f      t\u2085 - \u2500\u2500\u2500\u2500\u2500   \u23a5\n",
        "\u23a2              \u239d       t\u2081 \u23a0             t\u2081    \u23a5\n",
        "\u23a2                                             \u23a5\n",
        "\u23a2    1         t\u2082\u22c5t\u2084                -t\u2084       \u23a5\n",
        "\u23a20   \u2500\u2500 + \u2500\u2500\u2500\u2500\u2500\u2500\u2500\u2500\u2500\u2500\u2500\u2500\u2500\u2500\u2500\u2500    \u2500\u2500\u2500\u2500\u2500\u2500\u2500\u2500\u2500\u2500\u2500\u2500\u2500\u2500\u2500 \u23a5\n",
        "\u23a2    t\u2081     2 \u239b     t\u2082\u22c5t\u2084\u239e       \u239b     t\u2082\u22c5t\u2084\u239e \u23a5\n",
        "\u23a2         t\u2081 \u22c5\u239ct\u2085 - \u2500\u2500\u2500\u2500\u2500\u239f    t\u2081\u22c5\u239ct\u2085 - \u2500\u2500\u2500\u2500\u2500\u239f \u23a5\n",
        "\u23a2             \u239d       t\u2081 \u23a0       \u239d       t\u2081 \u23a0 \u23a5\n",
        "\u23a2                                             \u23a5\n",
        "\u23a2             -t\u2082                    1        \u23a5\n",
        "\u23a20      \u2500\u2500\u2500\u2500\u2500\u2500\u2500\u2500\u2500\u2500\u2500\u2500\u2500\u2500\u2500          \u2500\u2500\u2500\u2500\u2500\u2500\u2500\u2500\u2500\u2500   \u23a5\n",
        "\u23a2          \u239b     t\u2082\u22c5t\u2084\u239e               t\u2082\u22c5t\u2084   \u23a5\n",
        "\u23a2       t\u2081\u22c5\u239ct\u2085 - \u2500\u2500\u2500\u2500\u2500\u239f          t\u2085 - \u2500\u2500\u2500\u2500\u2500   \u23a5\n",
        "\u23a3          \u239d       t\u2081 \u23a0                 t\u2081    \u23a6"
       ]
      }
     ],
     "prompt_number": 16
    },
    {
     "cell_type": "code",
     "collapsed": false,
     "input": [
      "sympy.printing.print_tree(MI)"
     ],
     "language": "python",
     "metadata": {},
     "outputs": [
      {
       "ename": "AttributeError",
       "evalue": "MutableDenseMatrix has no attribute args.",
       "output_type": "pyerr",
       "traceback": [
        "\u001b[1;31m---------------------------------------------------------------------------\u001b[0m\n\u001b[1;31mAttributeError\u001b[0m                            Traceback (most recent call last)",
        "\u001b[1;32m<ipython-input-17-c8f604793704>\u001b[0m in \u001b[0;36m<module>\u001b[1;34m()\u001b[0m\n\u001b[1;32m----> 1\u001b[1;33m \u001b[0msympy\u001b[0m\u001b[1;33m.\u001b[0m\u001b[0mprinting\u001b[0m\u001b[1;33m.\u001b[0m\u001b[0mprint_tree\u001b[0m\u001b[1;33m(\u001b[0m\u001b[0mMI\u001b[0m\u001b[1;33m)\u001b[0m\u001b[1;33m\u001b[0m\u001b[0m\n\u001b[0m",
        "\u001b[1;32m/home/redhog/Projects/skytruth/pelagos/deps/local/lib/python2.7/site-packages/sympy/printing/tree.pyc\u001b[0m in \u001b[0;36mprint_tree\u001b[1;34m(node)\u001b[0m\n\u001b[0;32m    115\u001b[0m     \u001b[0mSee\u001b[0m \u001b[0malso\u001b[0m\u001b[1;33m:\u001b[0m \u001b[0mtree\u001b[0m\u001b[1;33m(\u001b[0m\u001b[1;33m)\u001b[0m\u001b[1;33m\u001b[0m\u001b[0m\n\u001b[0;32m    116\u001b[0m     \"\"\"\n\u001b[1;32m--> 117\u001b[1;33m     \u001b[1;32mprint\u001b[0m\u001b[1;33m(\u001b[0m\u001b[0mtree\u001b[0m\u001b[1;33m(\u001b[0m\u001b[0mnode\u001b[0m\u001b[1;33m)\u001b[0m\u001b[1;33m)\u001b[0m\u001b[1;33m\u001b[0m\u001b[0m\n\u001b[0m",
        "\u001b[1;32m/home/redhog/Projects/skytruth/pelagos/deps/local/lib/python2.7/site-packages/sympy/printing/tree.pyc\u001b[0m in \u001b[0;36mtree\u001b[1;34m(node)\u001b[0m\n\u001b[0;32m     63\u001b[0m     \"\"\"\n\u001b[0;32m     64\u001b[0m     \u001b[0msubtrees\u001b[0m \u001b[1;33m=\u001b[0m \u001b[1;33m[\u001b[0m\u001b[1;33m]\u001b[0m\u001b[1;33m\u001b[0m\u001b[0m\n\u001b[1;32m---> 65\u001b[1;33m     \u001b[1;32mfor\u001b[0m \u001b[0marg\u001b[0m \u001b[1;32min\u001b[0m \u001b[0mnode\u001b[0m\u001b[1;33m.\u001b[0m\u001b[0margs\u001b[0m\u001b[1;33m:\u001b[0m\u001b[1;33m\u001b[0m\u001b[0m\n\u001b[0m\u001b[0;32m     66\u001b[0m         \u001b[0msubtrees\u001b[0m\u001b[1;33m.\u001b[0m\u001b[0mappend\u001b[0m\u001b[1;33m(\u001b[0m\u001b[0mtree\u001b[0m\u001b[1;33m(\u001b[0m\u001b[0marg\u001b[0m\u001b[1;33m)\u001b[0m\u001b[1;33m)\u001b[0m\u001b[1;33m\u001b[0m\u001b[0m\n\u001b[0;32m     67\u001b[0m     \u001b[0ms\u001b[0m \u001b[1;33m=\u001b[0m \u001b[0mprint_node\u001b[0m\u001b[1;33m(\u001b[0m\u001b[0mnode\u001b[0m\u001b[1;33m)\u001b[0m \u001b[1;33m+\u001b[0m \u001b[0mpprint_nodes\u001b[0m\u001b[1;33m(\u001b[0m\u001b[0msubtrees\u001b[0m\u001b[1;33m)\u001b[0m\u001b[1;33m\u001b[0m\u001b[0m\n",
        "\u001b[1;32m/home/redhog/Projects/skytruth/pelagos/deps/local/lib/python2.7/site-packages/sympy/matrices/matrices.pyc\u001b[0m in \u001b[0;36m__getattr__\u001b[1;34m(self, attr)\u001b[0m\n\u001b[0;32m   3082\u001b[0m         \u001b[1;32melse\u001b[0m\u001b[1;33m:\u001b[0m\u001b[1;33m\u001b[0m\u001b[0m\n\u001b[0;32m   3083\u001b[0m             raise AttributeError(\n\u001b[1;32m-> 3084\u001b[1;33m                 \"%s has no attribute %s.\" % (self.__class__.__name__, attr))\n\u001b[0m\u001b[0;32m   3085\u001b[0m \u001b[1;33m\u001b[0m\u001b[0m\n\u001b[0;32m   3086\u001b[0m     \u001b[1;32mdef\u001b[0m \u001b[0mintegrate\u001b[0m\u001b[1;33m(\u001b[0m\u001b[0mself\u001b[0m\u001b[1;33m,\u001b[0m \u001b[1;33m*\u001b[0m\u001b[0margs\u001b[0m\u001b[1;33m)\u001b[0m\u001b[1;33m:\u001b[0m\u001b[1;33m\u001b[0m\u001b[0m\n",
        "\u001b[1;31mAttributeError\u001b[0m: MutableDenseMatrix has no attribute args."
       ]
      }
     ],
     "prompt_number": 17
    },
    {
     "cell_type": "code",
     "collapsed": false,
     "input": [
      "print repr(MI)"
     ],
     "language": "python",
     "metadata": {},
     "outputs": [
      {
       "output_type": "stream",
       "stream": "stdout",
       "text": [
        "Matrix([\n",
        "[1, -t_0/t_1 + t_2*(-t_0*t_4/t_1 + t_3)/(t_1*(t_5 - t_2*t_4/t_1)), -(-t_0*t_4/t_1 + t_3)/(t_5 - t_2*t_4/t_1)],\n",
        "[0,                  1/t_1 + t_2*t_4/(t_1**2*(t_5 - t_2*t_4/t_1)),            -t_4/(t_1*(t_5 - t_2*t_4/t_1))],\n",
        "[0,                                -t_2/(t_1*(t_5 - t_2*t_4/t_1)),                     1/(t_5 - t_2*t_4/t_1)]])\n"
       ]
      }
     ],
     "prompt_number": 20
    },
    {
     "cell_type": "code",
     "collapsed": false,
     "input": [
      "p,l,x, y = sympy.symbols(\"p,l,x,y\")\n",
      "e = sympy.Matrix([[1, x, y]]) * MI\n",
      "print sympy.Eq(p, e.tolist()[0][1])"
     ],
     "language": "python",
     "metadata": {},
     "outputs": [
      {
       "output_type": "stream",
       "stream": "stdout",
       "text": [
        "p == -t_0/t_1 + x*(1/t_1 + t_2*t_4/(t_1**2*(t_5 - t_2*t_4/t_1))) - t_2*y/(t_1*(t_5 - t_2*t_4/t_1)) + t_2*(-t_0*t_4/t_1 + t_3)/(t_1*(t_5 - t_2*t_4/t_1))\n"
       ]
      }
     ],
     "prompt_number": 38
    },
    {
     "cell_type": "code",
     "collapsed": false,
     "input": [
      "print sympy.Eq(l, e.tolist()[0][2])"
     ],
     "language": "python",
     "metadata": {},
     "outputs": [
      {
       "output_type": "stream",
       "stream": "stdout",
       "text": [
        "l == y/(t_5 - t_2*t_4/t_1) - (-t_0*t_4/t_1 + t_3)/(t_5 - t_2*t_4/t_1) - t_4*x/(t_1*(t_5 - t_2*t_4/t_1))\n"
       ]
      }
     ],
     "prompt_number": 39
    },
    {
     "cell_type": "code",
     "collapsed": false,
     "input": [],
     "language": "python",
     "metadata": {},
     "outputs": []
    }
   ],
   "metadata": {}
  }
 ]
}